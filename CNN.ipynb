{
 "cells": [
  {
   "cell_type": "markdown",
   "id": "014836df",
   "metadata": {},
   "source": [
    "# In Convolutional Neural Networks, a convolution is a linear operation that involves multiplication of weight (kernel/filter) with the input/\n"
   ]
  },
  {
   "cell_type": "markdown",
   "id": "4a1bf937",
   "metadata": {},
   "source": [
    "# It consists of 2 major components, 1. Kernel(Filter) 2. Stride"
   ]
  },
  {
   "cell_type": "markdown",
   "id": "b3953968",
   "metadata": {},
   "source": [
    "# We apply the filter and slide it across our image. This enables us to extract different features from the given input\n"
   ]
  },
  {
   "cell_type": "markdown",
   "id": "10eee563",
   "metadata": {},
   "source": [
    "# Stride controls the movement of the filter over the input. When it is 1, it moves 1 column at a time over the input. If it is 3, it moves 3 columns at a time over the input."
   ]
  },
  {
   "cell_type": "code",
   "execution_count": 10,
   "id": "55315226",
   "metadata": {},
   "outputs": [
    {
     "name": "stdout",
     "output_type": "stream",
     "text": [
      "[[359.547, 400.382, 342.979], [354.03200000000004, 274.92, 361.947], [493.813, 356.081, 395.055]]\n"
     ]
    }
   ],
   "source": [
    "def cnn_filter_output(input_section, filter_value):\n",
    "    # perform the multiplication of input section and the filter\n",
    "    value = 0\n",
    "    for i in range(len(filter_value)):\n",
    "        for j in range(len(filter_value[0])):\n",
    "            value += input_section[i][j] * filter_value[i][j]\n",
    "    return value\n",
    "\n",
    "# Input image\n",
    "input_image = [[250.745, 261.332, 112.27 , 262.351],\n",
    "               [260.302, 108.802, 139.05 , 230.709],\n",
    "               [261.775, 93.73 , 166.118, 222.897],\n",
    "               [259.56 , 232.038, 262.351, 228.937]]\n",
    "\n",
    "# Filter\n",
    "filter = [[1, 0], [0, 1]]\n",
    "\n",
    "filterX, filterY = len(filter), len(filter[0])\n",
    "filtered_result = []\n",
    "\n",
    "for i in range(len(input_image) - filterX + 1):\n",
    "    clm = []\n",
    "    for j in range(len(input_image[0]) - filterY + 1):e\n",
    "        input_section = [row[j:j+filterY] for row in input_image[i:i+filterX]]\n",
    "        clm.append(cnn_filter_output(input_section, filter))\n",
    "    filtered_result.append(clm)\n",
    "\n",
    "print(filtered_result)\n"
   ]
  },
  {
   "cell_type": "code",
   "execution_count": 11,
   "id": "ab7f5ae6",
   "metadata": {},
   "outputs": [
    {
     "name": "stdout",
     "output_type": "stream",
     "text": [
      "Original Image\n",
      "250.75 261.33 112.27 262.35\n",
      "260.30 108.80 139.05 230.71\n",
      "261.77 93.73 166.12 222.90\n",
      "259.56 232.04 262.35 228.94\n",
      "\n",
      "Filtered Image\n",
      "359.55 400.38 342.98\n",
      "354.03 274.92 361.95\n",
      "493.81 356.08 395.06\n",
      "\n"
     ]
    }
   ],
   "source": [
    "def print_image(image, title=\"Image\"):\n",
    "    print(title)\n",
    "    for row in image:\n",
    "        print(\" \".join(f\"{val:.2f}\" for val in row))\n",
    "    print()\n",
    "\n",
    "print_image(input_image, \"Original Image\")\n",
    "print_image(filtered_result, \"Filtered Image\")\n"
   ]
  },
  {
   "cell_type": "code",
   "execution_count": null,
   "id": "70d3c575",
   "metadata": {},
   "outputs": [],
   "source": []
  },
  {
   "cell_type": "markdown",
   "id": "8ba9a927",
   "metadata": {},
   "source": [
    "# Dropout is a regularization technique used to prevent overfitting in neural networks. During training, dropout randomly sets a fraction of the output features of the layer to zero at each update during training time, which helps prevent overfitting by reducing the network's capacity."
   ]
  },
  {
   "cell_type": "markdown",
   "id": "664ea2ac",
   "metadata": {},
   "source": [
    "# Pooling reduces the spatial dimensions of the input for the next convolutional layer. It is usually done to reduce the computation load, memory usage, and number of parameters."
   ]
  },
  {
   "cell_type": "code",
   "execution_count": 12,
   "id": "5bd5805b",
   "metadata": {},
   "outputs": [
    {
     "name": "stdout",
     "output_type": "stream",
     "text": [
      "Original matrix:\n",
      " [[1 3 2 4]\n",
      " [5 6 8 8]\n",
      " [9 7 4 2]\n",
      " [3 1 0 5]]\n",
      "Matrix after dropout:\n",
      " [[0 3 0 4]\n",
      " [0 0 8 8]\n",
      " [9 7 0 2]\n",
      " [3 1 0 0]]\n",
      "Matrix after max pooling:\n",
      " [[6. 8.]\n",
      " [9. 5.]]\n"
     ]
    }
   ],
   "source": [
    "import numpy as np\n",
    "\n",
    "# Dropout function\n",
    "def apply_dropout(input_matrix, dropout_rate):\n",
    "    # Create a mask with the same shape as the input matrix\n",
    "    # The mask has \"dropout_rate\" chance of being zero and (1 - dropout_rate) chance of being one\n",
    "    mask = np.random.binomial(1, 1 - dropout_rate, size=input_matrix.shape)\n",
    "    # Apply the mask to the input matrix\n",
    "    dropped_out_matrix = np.multiply(input_matrix, mask)\n",
    "    return dropped_out_matrix\n",
    "\n",
    "# Max pooling function\n",
    "def max_pooling(input_matrix, pool_size, stride):\n",
    "    # Dimensions of the input matrix\n",
    "    n_rows, n_cols = input_matrix.shape\n",
    "    # Calculate the size of the output matrix\n",
    "    out_rows = (n_rows - pool_size) // stride + 1\n",
    "    out_cols = (n_cols - pool_size) // stride + 1\n",
    "    # Create the output matrix\n",
    "    pooled_matrix = np.zeros((out_rows, out_cols))\n",
    "    \n",
    "    # Apply max pooling\n",
    "    for i in range(out_rows):\n",
    "        for j in range(out_cols):\n",
    "            row_start, col_start = i * stride, j * stride\n",
    "            row_end, col_end = row_start + pool_size, col_start + pool_size\n",
    "            window = input_matrix[row_start:row_end, col_start:col_end]\n",
    "            pooled_matrix[i, j] = np.max(window)\n",
    "    \n",
    "    return pooled_matrix\n",
    "\n",
    "# Example usage:\n",
    "input_matrix = np.array([[1, 3, 2, 4], \n",
    "                         [5, 6, 8, 8], \n",
    "                         [9, 7, 4, 2], \n",
    "                         [3, 1, 0, 5]])\n",
    "\n",
    "# Apply dropout with a rate of 0.5\n",
    "dropout_rate = 0.5\n",
    "dropped_out_matrix = apply_dropout(input_matrix, dropout_rate)\n",
    "\n",
    "# Apply max pooling with pool size of 2 and stride of 2\n",
    "pool_size = 2\n",
    "stride = 2\n",
    "pooled_matrix = max_pooling(input_matrix, pool_size, stride)\n",
    "\n",
    "print(\"Original matrix:\\n\", input_matrix)\n",
    "print(\"Matrix after dropout:\\n\", dropped_out_matrix)\n",
    "print(\"Matrix after max pooling:\\n\", pooled_matrix)\n"
   ]
  },
  {
   "cell_type": "code",
   "execution_count": null,
   "id": "bfe3af32",
   "metadata": {},
   "outputs": [],
   "source": []
  }
 ],
 "metadata": {
  "kernelspec": {
   "display_name": "Python 3 (ipykernel)",
   "language": "python",
   "name": "python3"
  },
  "language_info": {
   "codemirror_mode": {
    "name": "ipython",
    "version": 3
   },
   "file_extension": ".py",
   "mimetype": "text/x-python",
   "name": "python",
   "nbconvert_exporter": "python",
   "pygments_lexer": "ipython3",
   "version": "3.9.13"
  }
 },
 "nbformat": 4,
 "nbformat_minor": 5
}
